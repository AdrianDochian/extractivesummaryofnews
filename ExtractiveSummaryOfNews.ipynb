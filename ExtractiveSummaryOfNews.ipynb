{
 "cells": [
  {
   "cell_type": "markdown",
   "id": "e3a94c04",
   "metadata": {},
   "source": [
    "# Extractive Summary of News"
   ]
  },
  {
   "cell_type": "markdown",
   "id": "2352155b",
   "metadata": {},
   "source": [
    "## 1. Storing data sets in memory"
   ]
  },
  {
   "cell_type": "code",
   "execution_count": 1,
   "id": "396a6e55",
   "metadata": {},
   "outputs": [],
   "source": [
    "ARTICLES_PATH = 'BBC News Summary/News Articles'\n",
    "SUMMARIES_PATH = 'BBC News Summary/Summaries'\n",
    "ENCODING = 'latin1'\n",
    "\n",
    "# CLASSES = ['sport', 'entertainment', 'tech', 'politics', 'business']\n",
    "TRAIN_PERCENTAGE = 0.9\n",
    "\n",
    "# DICTIONARY INDEXES\n",
    "FILE_NAME = 0\n",
    "TITLE_WORDS = 1\n",
    "TITLE_UNIGRAMS = 2\n",
    "TITLE_BIGRAMS = 3\n",
    "TITLE_FOURGRAMS = 4\n",
    "FILE_SENTENCES = 5\n",
    "FILE_UNIGRAMS = 6\n",
    "FILE_BIGRAMS = 7\n",
    "FILE_FOURGRAMS = 8\n",
    "SUMMARY_TEXT = 9\n",
    "SUMMARY_UNIGRAMS = 10\n",
    "SUMMARY_BIGRAMS = 10\n",
    "SUMMARY_FOURGRAMS = 10"
   ]
  },
  {
   "cell_type": "code",
   "execution_count": 5,
   "id": "f8f31a69",
   "metadata": {},
   "outputs": [],
   "source": [
    "import nltk\n",
    "# Uncomment if needed\n",
    "# nltk.download('all')"
   ]
  },
  {
   "cell_type": "code",
   "execution_count": 6,
   "id": "9c23cf6d",
   "metadata": {},
   "outputs": [],
   "source": [
    "from nltk.stem import WordNetLemmatizer\n",
    "from nltk.corpus import stopwords\n",
    "\n",
    "lemmatizer = WordNetLemmatizer()\n",
    "stop_words = set(stopwords.words('english'))\n",
    "\n",
    "def lemmatize_words(initial_words):\n",
    "    return list(filter(lambda x: lemmatizer.lemmatize(x), initial_words))\n",
    "\n",
    "def filter_stop_words(initial_words):\n",
    "    return list(filter(lambda x : x not in stop_words, initial_words))\n",
    "\n",
    "def only_nouns(word_list):\n",
    "    return [word for (word, tag) in pos_tag(word_list) if tag[:2] == 'NN']"
   ]
  },
  {
   "cell_type": "code",
   "execution_count": 63,
   "id": "dcb7d305",
   "metadata": {},
   "outputs": [],
   "source": [
    "import os\n",
    "from nltk.tokenize import word_tokenize, sent_tokenize\n",
    "from nltk import pos_tag\n",
    "from nltk import ngrams\n",
    "\n",
    "def get_summary_text_for_article(class_name, file_name):\n",
    "    summary_directory_path = os.path.join(SUMMARIES_PATH, class_name)\n",
    "    summary_file_path = os.path.join(summary_directory_path, file_name)\n",
    "    with open (summary_file_path, 'r', encoding = ENCODING) as file:\n",
    "        return file.read()\n",
    "\n",
    "def n_grams(text, n):\n",
    "    return list(ngrams(text, n))\n",
    "    \n",
    "def prepare_sentence_words(sentence, data_set_creation_info):\n",
    "    result = word_tokenize(sentence)\n",
    "    \n",
    "    if data_set_creation_info['exclude_stop_words']:\n",
    "        result = filter_stop_words(result)\n",
    "    \n",
    "    result = lemmatize_words(result)\n",
    "    result = only_nouns(result)\n",
    "\n",
    "    return result\n",
    "    \n",
    "def persist_article_class_file(data_set, data_set_creation_info, class_name, file_name, file_path):\n",
    "    with open (file_path, 'r', encoding = ENCODING) as file:\n",
    "        # Title\n",
    "        file_title = file.readline()\n",
    "\n",
    "        title_words = prepare_sentence_words(file_title, data_set_creation_info)\n",
    "        title_unigrams = n_grams(title_words, 1)\n",
    "        title_bigrams = n_grams(title_words, 2)\n",
    "        title_fourgrams = n_grams(title_words, 4)\n",
    "        \n",
    "        file.readline()\n",
    "\n",
    "        # Content\n",
    "        file_content = file.read()\n",
    "        \n",
    "        file_sentences = list(map(lambda sentence : prepare_sentence_words(sentence, data_set_creation_info),\\\n",
    "            sent_tokenize(file_content)))\n",
    "        file_unigrams = list(map(lambda sentence : n_grams(sentence, 1), file_sentences))\n",
    "        file_bigrams = list(map(lambda sentence : n_grams(sentence, 2), file_sentences))\n",
    "        file_fourgrams = list(map(lambda sentence : n_grams(sentence, 4), file_sentences))\n",
    "        \n",
    "        # Summary\n",
    "        summary_text = get_summary_text_for_article(class_name, file_name)\n",
    "        summary_tokens = word_tokenize(summary_text)\n",
    "        summary_unigrams = n_grams(summary_tokens, 1)\n",
    "        summary_bigrams = n_grams(summary_tokens, 2)\n",
    "        summary_fourgrams = n_grams(summary_tokens, 4)\n",
    "        \n",
    "        \n",
    "        # Wrapper\n",
    "        new_information = (file_name, \\\n",
    "                           title_words, \\\n",
    "                           title_unigrams, \\\n",
    "                           title_bigrams, \\\n",
    "                           title_fourgrams, \\\n",
    "                           sent_tokenize(file_content), \\\n",
    "                           file_unigrams, \\\n",
    "                           file_bigrams, \\\n",
    "                           file_fourgrams, \\\n",
    "                           summary_text, \\\n",
    "                           summary_unigrams, \\\n",
    "                           summary_bigrams, \\\n",
    "                           summary_fourgrams)\n",
    "    \n",
    "        if class_name in data_set:\n",
    "            new_value = data_set[class_name]\n",
    "            new_value.append(new_information)\n",
    "            data_set[class_name] = new_value\n",
    "        else:\n",
    "            data_set[class_name] = [new_information]\n",
    "    return data_set\n",
    "\n",
    "def persist_article_class(data_set, data_set_creation_info, class_name, class_directory_path):\n",
    "    for file_name in os.listdir(class_directory_path):\n",
    "        persist_article_class_file(data_set, data_set_creation_info, class_name,\\\n",
    "                file_name, os.path.join(class_directory_path, file_name))\n",
    "\n",
    "def persist_articles_information(data_set_creation_info):\n",
    "    data_set = dict()\n",
    "    for class_directory in os.listdir(ARTICLES_PATH):\n",
    "        persist_article_class(data_set, data_set_creation_info, class_directory,\\\n",
    "                os.path.join(ARTICLES_PATH, class_directory))\n",
    "        \n",
    "    return data_set"
   ]
  },
  {
   "cell_type": "code",
   "execution_count": 64,
   "id": "2cdec539",
   "metadata": {},
   "outputs": [],
   "source": [
    "# Create dataset including stop words\n",
    "data_set_creation_info = {'exclude_stop_words' : False}\n",
    "data_set = persist_articles_information(data_set_creation_info)\n",
    "\n",
    "# Create dataset with stop words excluded\n",
    "data_set_creation_info = {'exclude_stop_words' : True}\n",
    "data_set_stop_words_excluded = persist_articles_information(data_set_creation_info)"
   ]
  },
  {
   "cell_type": "markdown",
   "id": "d7b3ac7b",
   "metadata": {},
   "source": [
    "## 2. Building Models"
   ]
  },
  {
   "cell_type": "code",
   "execution_count": 65,
   "id": "c7f788c8",
   "metadata": {},
   "outputs": [],
   "source": [
    "from IPython.display import clear_output\n",
    "\n",
    "def show_progress_bar(current_value, max_value, bar_length = 100):\n",
    "    # compute bar properties\n",
    "    ratio = current_value / max_value\n",
    "    current_bar_length = int(ratio * bar_length)\n",
    "    \n",
    "    # compute bar\n",
    "    current_bar_array = [' '] * bar_length\n",
    "    for i in range(0, current_bar_length):\n",
    "        current_bar_array[i] = '#'\n",
    "    bar_string = functools.reduce(operator.add, current_bar_array)\n",
    "    \n",
    "    # print bar\n",
    "    clear_output(wait = True)\n",
    "    print(\"[{}] {}%\".format(bar_string, int(ratio * 100)))"
   ]
  },
  {
   "cell_type": "code",
   "execution_count": 66,
   "id": "699ce6e6",
   "metadata": {},
   "outputs": [],
   "source": [
    "def split_data(data_set):\n",
    "    train_data = dict()\n",
    "    test_data = dict()\n",
    "    \n",
    "    for class_name in data_set:\n",
    "        data_array = data_set[class_name]\n",
    "        total_data_length = len(data_array)\n",
    "        \n",
    "        cutoff_index = int(total_data_length * TRAIN_PERCENTAGE)\n",
    "        \n",
    "        train_data[class_name] = data_array[0: cutoff_index]\n",
    "        test_data[class_name] = data_array[cutoff_index:total_data_length]    \n",
    "        \n",
    "    return train_data, test_data"
   ]
  },
  {
   "cell_type": "markdown",
   "id": "c1087321",
   "metadata": {},
   "source": [
    "### 2.1) Term Frequency–Inverse Document Frequency (TF-IDF) models"
   ]
  },
  {
   "cell_type": "code",
   "execution_count": 67,
   "id": "a6e3ffb5",
   "metadata": {},
   "outputs": [],
   "source": [
    "import functools\n",
    "import operator\n",
    "from math import log\n",
    "\n",
    "def count_term_frequency(item, items_matrix):\n",
    "    count = 0\n",
    "    for i in range(0, len(items_matrix)):\n",
    "        for j in range(0, len(items_matrix[i])):\n",
    "            if items_matrix[i][j] == item:\n",
    "                count += 1\n",
    "    return count\n",
    "\n",
    "def count_inverse_document_frequency(item, class_data, content_index):\n",
    "    count = 0\n",
    "    # for each document\n",
    "    for article_information in class_data:\n",
    "        items_matrix = article_information[content_index]\n",
    "        # for each sentence\n",
    "        for i in range(0, len(items_matrix)):\n",
    "            \n",
    "            # if found in any sentence => found in article \n",
    "            if item in items_matrix[i]:\n",
    "                count+=1\n",
    "                continue\n",
    "\n",
    "    return count\n",
    "\n",
    "def compute_tf_idf(train_data, content_index, title_index):\n",
    "    N = 0\n",
    "    tf_idf_model = dict()\n",
    "    for class_name in train_data:\n",
    "        tf_idf_model[class_name] = dict()\n",
    "        N += len(train_data[class_name])\n",
    "\n",
    "    index = 1\n",
    "    for class_name in train_data:\n",
    "        class_data = train_data[class_name]\n",
    "        \n",
    "        for article_information in class_data:\n",
    "            show_progress_bar(index, N)\n",
    "            n_gram_matrix = article_information[content_index]\n",
    "            for i in range(0, len(n_gram_matrix)):\n",
    "                for j in range(0, len(n_gram_matrix[i])):\n",
    "                    n_gram = n_gram_matrix[i][j]\n",
    "                    term_frequency = count_term_frequency(n_gram, article_information[content_index])\n",
    "                    inverse_document_frequency = count_inverse_document_frequency(n_gram, class_data, content_index)\n",
    "\n",
    "                    tf_idf = term_frequency * log(N / inverse_document_frequency)\n",
    "                    \n",
    "                    if n_gram in tf_idf_model[class_name]:\n",
    "                        new_value = tf_idf_model[class_name][n_gram]\n",
    "                        new_value += tf_idf\n",
    "                        tf_idf_model[class_name][n_gram] = new_value\n",
    "                    else:\n",
    "                        tf_idf_model[class_name][n_gram] = tf_idf\n",
    "                    \n",
    "            index += 1\n",
    "    \n",
    "    return tf_idf_model"
   ]
  },
  {
   "cell_type": "code",
   "execution_count": 68,
   "id": "77fcff7e",
   "metadata": {},
   "outputs": [],
   "source": [
    "train_data_tf_idf, test_data_tf_idf = split_data(data_set_stop_words_excluded)"
   ]
  },
  {
   "cell_type": "code",
   "execution_count": 28,
   "id": "3c14d210",
   "metadata": {},
   "outputs": [
    {
     "name": "stdout",
     "output_type": "stream",
     "text": [
      "[####################################################################################################] 100%\n"
     ]
    }
   ],
   "source": [
    "tf_idf_unigram_model = compute_tf_idf(train_data_tf_idf, FILE_UNIGRAMS, TITLE_UNIGRAMS)"
   ]
  },
  {
   "cell_type": "code",
   "execution_count": 29,
   "id": "f627dd15",
   "metadata": {},
   "outputs": [
    {
     "name": "stdout",
     "output_type": "stream",
     "text": [
      "[####################################################################################################] 100%\n"
     ]
    }
   ],
   "source": [
    "tf_idf_bigram_model = compute_tf_idf(train_data_tf_idf, FILE_BIGRAMS, TITLE_BIGRAMS)"
   ]
  },
  {
   "cell_type": "code",
   "execution_count": 30,
   "id": "418ac61c",
   "metadata": {},
   "outputs": [
    {
     "name": "stdout",
     "output_type": "stream",
     "text": [
      "[####################################################################################################] 100%\n"
     ]
    }
   ],
   "source": [
    "tf_idf_fourgram_model = compute_tf_idf(train_data_tf_idf, FILE_FOURGRAMS, TITLE_FOURGRAMS)"
   ]
  },
  {
   "cell_type": "markdown",
   "id": "14bee18a",
   "metadata": {},
   "source": [
    "### 2.2) Naive Bayes models"
   ]
  },
  {
   "cell_type": "code",
   "execution_count": 87,
   "id": "a8afab6a",
   "metadata": {},
   "outputs": [],
   "source": [
    "FOUND = 0\n",
    "NOT_FOUND = 1\n",
    "DICTIONARY_LENGTH = 2\n",
    "\n",
    "def is_found_in_summary(item, items_list):\n",
    "    for x in items_list:\n",
    "        if item == x:\n",
    "            return True\n",
    "    return False\n",
    "\n",
    "def compute_bayes_model(train_data, content_index, summary_index):\n",
    "    N = 0\n",
    "    bayes_model = dict()\n",
    "    for class_name in train_data:\n",
    "        bayes_model[class_name] = dict()\n",
    "        N += len(train_data[class_name])\n",
    "\n",
    "    index = 1\n",
    "    for class_name in train_data:\n",
    "        class_data = train_data[class_name]\n",
    "        \n",
    "        for article_information in class_data:\n",
    "            show_progress_bar(index, N)\n",
    "            n_gram_matrix = article_information[content_index]\n",
    "            for i in range(0, len(n_gram_matrix)):\n",
    "                for j in range(0, len(n_gram_matrix[i])):\n",
    "                    found = 0\n",
    "                    not_found = 0\n",
    "                    \n",
    "                    n_gram = n_gram_matrix[i][j]\n",
    "                    \n",
    "                    if is_found_in_summary(n_gram, article_information[summary_index]):\n",
    "                        found += 1\n",
    "                    else:\n",
    "                        not_found += 1\n",
    "                        \n",
    "                    if n_gram in bayes_model[class_name]:\n",
    "                        found_history, not_found_history = bayes_model[class_name][n_gram]\n",
    "                        bayes_model[class_name][n_gram] = (found_history + found, not_found_history + not_found)\n",
    "                    else:\n",
    "                        bayes_model[class_name][n_gram] = (found, not_found)\n",
    "            index += 1\n",
    "    \n",
    "    return bayes_model"
   ]
  },
  {
   "cell_type": "markdown",
   "id": "5f802068",
   "metadata": {},
   "source": [
    "#### 2.2.1) Stop words included"
   ]
  },
  {
   "cell_type": "code",
   "execution_count": 70,
   "id": "cd542fca",
   "metadata": {},
   "outputs": [],
   "source": [
    "train_data, test_data = split_data(data_set)"
   ]
  },
  {
   "cell_type": "code",
   "execution_count": 71,
   "id": "d0ca4568",
   "metadata": {},
   "outputs": [
    {
     "name": "stdout",
     "output_type": "stream",
     "text": [
      "[####################################################################################################] 100%\n"
     ]
    }
   ],
   "source": [
    "bayes_unigram_model = compute_bayes_model(train_data, FILE_UNIGRAMS, SUMMARY_UNIGRAMS)"
   ]
  },
  {
   "cell_type": "code",
   "execution_count": 72,
   "id": "86f0c73a",
   "metadata": {},
   "outputs": [
    {
     "name": "stdout",
     "output_type": "stream",
     "text": [
      "[####################################################################################################] 100%\n"
     ]
    }
   ],
   "source": [
    "bayes_bigram_model = compute_bayes_model(train_data, FILE_BIGRAMS, SUMMARY_BIGRAMS)"
   ]
  },
  {
   "cell_type": "code",
   "execution_count": 73,
   "id": "28ca4083",
   "metadata": {},
   "outputs": [
    {
     "name": "stdout",
     "output_type": "stream",
     "text": [
      "[####################################################################################################] 100%\n"
     ]
    }
   ],
   "source": [
    "bayes_fourgram_model = compute_bayes_model(train_data, FILE_BIGRAMS, SUMMARY_FOURGRAMS)"
   ]
  },
  {
   "cell_type": "markdown",
   "id": "8916a3f3",
   "metadata": {},
   "source": [
    "#### 2.2.1) Stop words excluded"
   ]
  },
  {
   "cell_type": "code",
   "execution_count": 76,
   "id": "521713ee",
   "metadata": {},
   "outputs": [],
   "source": [
    "train_data_stop_words_excluded, test_data_stop_words_excluded = split_data(data_set_stop_words_excluded)"
   ]
  },
  {
   "cell_type": "code",
   "execution_count": 79,
   "id": "f1a6f657",
   "metadata": {},
   "outputs": [
    {
     "name": "stdout",
     "output_type": "stream",
     "text": [
      "[####################################################################################################] 100%\n"
     ]
    }
   ],
   "source": [
    "bayes_unigram_model_stop_words_excluded = \\\n",
    "        compute_bayes_model(train_data_stop_words_excluded, FILE_UNIGRAMS, SUMMARY_UNIGRAMS)"
   ]
  },
  {
   "cell_type": "code",
   "execution_count": 80,
   "id": "eeaee88f",
   "metadata": {},
   "outputs": [
    {
     "name": "stdout",
     "output_type": "stream",
     "text": [
      "[####################################################################################################] 100%\n"
     ]
    }
   ],
   "source": [
    "bayes_bigram_model_stop_words_excluded = \\\n",
    "        compute_bayes_model(train_data_stop_words_excluded, FILE_BIGRAMS, SUMMARY_BIGRAMS)"
   ]
  },
  {
   "cell_type": "code",
   "execution_count": 82,
   "id": "e16a5549",
   "metadata": {},
   "outputs": [
    {
     "name": "stdout",
     "output_type": "stream",
     "text": [
      "[####################################################################################################] 100%\n"
     ]
    }
   ],
   "source": [
    "bayes_fourgram_model_stop_words_excluded = \\\n",
    "        compute_bayes_model(train_data_stop_words_excluded, FILE_FOURGRAMS, SUMMARY_FOURGRAMS)"
   ]
  },
  {
   "cell_type": "markdown",
   "id": "1192ca25",
   "metadata": {},
   "source": [
    "## 3. Produce Summary"
   ]
  },
  {
   "cell_type": "markdown",
   "id": "2a1ea686",
   "metadata": {},
   "source": [
    "### 3.1 TF-IDF"
   ]
  },
  {
   "cell_type": "code",
   "execution_count": 83,
   "id": "06ffa05b",
   "metadata": {},
   "outputs": [],
   "source": [
    "import numpy as np\n",
    "TITLE_IMPORTANCE = 0.1\n",
    "K = 3\n",
    "\n",
    "def generate_sentence_smoother_sequence(number_of_sentences):\n",
    "    SENTENCE_ORDER_LOWER_BOUND = 0.1\n",
    "    SENTENCE_ORDER_UPPER_BOUND = 1\n",
    "    return np.linspace(SENTENCE_ORDER_LOWER_BOUND, SENTENCE_ORDER_UPPER_BOUND, number_of_sentences)\n",
    "\n",
    "def count_of_words_in_title(n_gram_sentence, title_n_grams):\n",
    "    count = 0\n",
    "    for n_gram in n_gram_sentence:\n",
    "        if n_gram in title_n_grams:\n",
    "            count += 1\n",
    "    return count\n",
    "\n",
    "def produce_summary_for_class(model, test_data, class_name, \\\n",
    "        article_information, file_n_grams_index, title_n_grams_index):\n",
    "    sentences = []\n",
    "    sentences_length = len(article_information[FILE_SENTENCES])\n",
    "    for i in range(0, sentences_length):\n",
    "        actual_sentence = article_information[FILE_SENTENCES][i]\n",
    "        n_gram_sentence = article_information[file_n_grams_index][i]\n",
    "        \n",
    "        sentence_score = 0\n",
    "        \n",
    "        # step 1 (Importance of nouns)\n",
    "        nouns_score = 0\n",
    "        for n_gram in n_gram_sentence:\n",
    "            if n_gram in model[class_name]:\n",
    "                nouns_score += model[class_name][n_gram]\n",
    "        \n",
    "        sentence_score = nouns_score / (len(n_gram_sentence) + 1)\n",
    "        \n",
    "        # step 2 (Relation with title)\n",
    "        words_in_title = count_of_words_in_title(n_gram_sentence, article_information[title_n_grams_index])\n",
    "        title_score = words_in_title * TITLE_IMPORTANCE\n",
    "        \n",
    "        sentence_score += title_score\n",
    "        \n",
    "        sentences.append((actual_sentence, sentence_score))\n",
    "    \n",
    "    # step 3 (Smoothing sentences with respect to their position in article)\n",
    "    sentence_smoother = generate_sentence_smoother_sequence(sentences_length)\n",
    "    for i in range(0, sentences_length):\n",
    "        text, score = sentences[i] \n",
    "        new_score = score * sentence_smoother[i]\n",
    "        sentences[i] = (text, new_score) \n",
    "    \n",
    "    # step 4 (Fetch only the first K sentences with highest score)\n",
    "    sentences.sort(reverse = True, key = lambda x : x[1])\n",
    "    \n",
    "    # chose upper bound\n",
    "    upper_bound = K if K <= sentences_length else sentences_length \n",
    "    \n",
    "    # filter out the score\n",
    "    sentences_test_list = list(map(lambda x: x[0], sentences[0:upper_bound]))\n",
    "    \n",
    "    # concat sentences\n",
    "    return functools.reduce(operator.add, sentences_test_list)\n",
    "    \n",
    "def produce_summary_tf_idf(model, test_data, file_n_grams_index, title_n_grams_index):\n",
    "    results = []\n",
    "    for class_name in test_data:\n",
    "        class_data = test_data[class_name]\n",
    "        \n",
    "        for article_information in class_data:\n",
    "            computed_summary = produce_summary_for_class(\\\n",
    "                model, test_data, class_name, article_information, file_n_grams_index, title_n_grams_index)\n",
    "            results.append((class_name, article_information, computed_summary))\n",
    "    return results"
   ]
  },
  {
   "cell_type": "code",
   "execution_count": 84,
   "id": "74e94d6c",
   "metadata": {},
   "outputs": [],
   "source": [
    "tf_idf_unigrams_results = \\\n",
    "        produce_summary_tf_idf(tf_idf_unigram_model, test_data_tf_idf, FILE_UNIGRAMS, TITLE_UNIGRAMS)\n",
    "tf_idf_bigrams_results = \\\n",
    "        produce_summary_tf_idf(tf_idf_bigram_model, test_data_tf_idf, FILE_BIGRAMS, TITLE_FOURGRAMS)\n",
    "tf_idf_fourgrams_results = \\\n",
    "        produce_summary_tf_idf(tf_idf_bigram_model, test_data_tf_idf, FILE_BIGRAMS, TITLE_FOURGRAMS)"
   ]
  },
  {
   "cell_type": "markdown",
   "id": "b6604fb7",
   "metadata": {},
   "source": [
    "### 3.2 Bayes"
   ]
  },
  {
   "cell_type": "code",
   "execution_count": 113,
   "id": "378e73e5",
   "metadata": {},
   "outputs": [],
   "source": [
    "def get_model_global_information(model, data_set):\n",
    "    model_information = dict()\n",
    "    \n",
    "    for class_name in data_set:\n",
    "        model_for_class = model[class_name]\n",
    "        \n",
    "        total_found = 0\n",
    "        total_not_found = 0\n",
    "        for n_gram in model_for_class:\n",
    "            history_found, history_not_found = model_for_class[n_gram]\n",
    "            total_found += history_found\n",
    "            total_not_found += history_not_found\n",
    "        \n",
    "        \n",
    "        total = total_found + total_not_found\n",
    "        model_information[class_name] = (total_found, total_not_found, len(model_for_class))\n",
    "    return model_information\n",
    "\n",
    "def produce_summary_for_class_bayes(model, model_information, class_name, article_information,\\\n",
    "        file_n_grams_index, alpha = 0.8):\n",
    "    class_total_found = model_information[class_name][FOUND]\n",
    "    class_total_not_found = model_information[class_name][NOT_FOUND]\n",
    "    class_total = class_total_found + class_total_not_found \n",
    "    \n",
    "    log_found = log(class_total_found / class_total)\n",
    "    log_not_found = log(class_total_not_found / class_total)\n",
    "    dictionary_length = model_information[class_name][DICTIONARY_LENGTH]\n",
    "    \n",
    "    sentences = []\n",
    "    sentences_length = len(article_information[FILE_SENTENCES])\n",
    "    for i in range(0, sentences_length):\n",
    "        actual_sentence = article_information[FILE_SENTENCES][i]\n",
    "        n_gram_sentence = article_information[file_n_grams_index][i]\n",
    "        \n",
    "        log_n_gram_found = 0\n",
    "        log_n_gram_not_found = 0\n",
    "\n",
    "        for n_gram in n_gram_sentence:\n",
    "            if n_gram in model[class_name]:\n",
    "                (found_count, not_found_count) = model[class_name][n_gram] \n",
    "                log_n_gram_found += \\\n",
    "                    log((found_count + alpha) / (class_total_found + dictionary_length * alpha))\n",
    "                log_n_gram_found += \\\n",
    "                    log((not_found_count + alpha) / (class_total_not_found + dictionary_length * alpha))\n",
    "        \n",
    "        if log_found + log_n_gram_found >= log_not_found + log_n_gram_not_found:\n",
    "            sentences.append((actual_sentence, True))\n",
    "        else:\n",
    "            sentences.append((actual_sentence, False))\n",
    "    \n",
    "    # filter out the sentences that we presume are not part of the summary\n",
    "    sentences = list(filter(lambda x: x[1] == True, sentences))\n",
    "    \n",
    "    # filter out the decision\n",
    "    sentences_test_list = list(map(lambda x: x[0], sentences))\n",
    "    \n",
    "    # concat sentences\n",
    "    return functools.reduce(operator.add, sentences_test_list, \"\")\n",
    "    \n",
    "def produce_summary_bayes(data_set, model, file_n_grams_index):\n",
    "    N = 0\n",
    "    for class_name in data_set:\n",
    "        N += len(data_set[class_name])\n",
    "\n",
    "    index = 1\n",
    "    results = []\n",
    "    for class_name in data_set:\n",
    "        class_data = data_set[class_name]\n",
    "        \n",
    "        for article_information in class_data:\n",
    "            show_progress_bar(index, N)\n",
    "            computed_summary = produce_summary_for_class_bayes(model, \\\n",
    "                get_model_global_information(bayes_unigram_model, data_set),\\\n",
    "                class_name,\\\n",
    "                article_information,\\\n",
    "                file_n_grams_index)\n",
    "            results.append((class_name, article_information, computed_summary))\n",
    "            index += 1\n",
    "            \n",
    "    return results"
   ]
  },
  {
   "cell_type": "markdown",
   "id": "bde911fa",
   "metadata": {},
   "source": [
    "### 3.2.1) Stop words included"
   ]
  },
  {
   "cell_type": "code",
   "execution_count": 114,
   "id": "f4352652",
   "metadata": {},
   "outputs": [
    {
     "name": "stdout",
     "output_type": "stream",
     "text": [
      "[####################################################################################################] 100%\n"
     ]
    }
   ],
   "source": [
    "bayes_unigrams_results = produce_summary_bayes(test_data, bayes_unigram_model, FILE_UNIGRAMS)"
   ]
  },
  {
   "cell_type": "code",
   "execution_count": 115,
   "id": "4ff06d51",
   "metadata": {},
   "outputs": [
    {
     "name": "stdout",
     "output_type": "stream",
     "text": [
      "[####################################################################################################] 100%\n"
     ]
    }
   ],
   "source": [
    "bayes_bigrams_results = produce_summary_bayes(test_data, bayes_bigram_model, FILE_BIGRAMS)"
   ]
  },
  {
   "cell_type": "code",
   "execution_count": 116,
   "id": "3ea1e231",
   "metadata": {},
   "outputs": [
    {
     "name": "stdout",
     "output_type": "stream",
     "text": [
      "[####################################################################################################] 100%\n"
     ]
    }
   ],
   "source": [
    "bayes_fourgrams_results = produce_summary_bayes(test_data, bayes_fourgram_model, FILE_BIGRAMS)"
   ]
  },
  {
   "cell_type": "markdown",
   "id": "5bf0c70a",
   "metadata": {},
   "source": [
    "### 3.2.2) Stop words excluded"
   ]
  },
  {
   "cell_type": "code",
   "execution_count": 117,
   "id": "3f86a0dc",
   "metadata": {},
   "outputs": [
    {
     "name": "stdout",
     "output_type": "stream",
     "text": [
      "[####################################################################################################] 100%\n"
     ]
    }
   ],
   "source": [
    "bayes_unigrams_results_stop_words_excluded = \\\n",
    "        produce_summary_bayes(test_data_stop_words_excluded, bayes_unigram_model, FILE_UNIGRAMS)"
   ]
  },
  {
   "cell_type": "code",
   "execution_count": 118,
   "id": "1010fd5b",
   "metadata": {},
   "outputs": [
    {
     "name": "stdout",
     "output_type": "stream",
     "text": [
      "[####################################################################################################] 100%\n"
     ]
    }
   ],
   "source": [
    "bayes_bigrams_results_stop_words_excluded = \\\n",
    "        produce_summary_bayes(test_data_stop_words_excluded, bayes_bigram_model, FILE_BIGRAMS)"
   ]
  },
  {
   "cell_type": "code",
   "execution_count": 119,
   "id": "e821ab7a",
   "metadata": {},
   "outputs": [
    {
     "name": "stdout",
     "output_type": "stream",
     "text": [
      "[####################################################################################################] 100%\n"
     ]
    }
   ],
   "source": [
    "bayes_fourgrams_results_stop_words_excluded = \\\n",
    "        produce_summary_bayes(test_data_stop_words_excluded, bayes_fourgram_model, FILE_FOURGRAMS)"
   ]
  },
  {
   "cell_type": "markdown",
   "id": "4ac65c96",
   "metadata": {},
   "source": [
    "## 4 Draw results"
   ]
  },
  {
   "cell_type": "code",
   "execution_count": 95,
   "id": "bb350e97",
   "metadata": {},
   "outputs": [],
   "source": [
    "import matplotlib.pyplot as plt"
   ]
  },
  {
   "cell_type": "code",
   "execution_count": 96,
   "id": "660843a3",
   "metadata": {},
   "outputs": [],
   "source": [
    "def n_grams(text, n):\n",
    "    return list(ngrams(text.split(), n))\n",
    "\n",
    "def common(list1, list2): \n",
    "    return set(list1).intersection(list2)\n",
    "\n",
    "def bleu_n(results, n_gram_identifier):\n",
    "    total_common_grams = 0\n",
    "    total_text_grams = 0\n",
    "    for result in results:\n",
    "        expected = n_grams(result[1][SUMMARY_TEXT], n_gram_identifier)\n",
    "        actual = n_grams(result[2], n_gram_identifier)\n",
    "        common_grams = common(expected, actual)\n",
    "        total_common_grams += len(common_grams) \n",
    "        total_text_grams += len(actual)\n",
    "        \n",
    "    return total_common_grams / total_text_grams * 100\n",
    "\n",
    "def rouge_n(results, n_gram_identifier):\n",
    "    total_common_grams = 0\n",
    "    total_text_grams = 0\n",
    "    for result in results:\n",
    "        expected = n_grams(result[1][SUMMARY_TEXT], n_gram_identifier)\n",
    "        actual = n_grams(result[2], n_gram_identifier)\n",
    "        common_grams = common(expected, actual)\n",
    "        total_common_grams += len(common_grams) \n",
    "        total_text_grams += len(expected)\n",
    "        \n",
    "    return total_common_grams / total_text_grams * 100"
   ]
  },
  {
   "cell_type": "markdown",
   "id": "2477652f",
   "metadata": {},
   "source": [
    "### 4.1 TF-IDF"
   ]
  },
  {
   "cell_type": "code",
   "execution_count": 101,
   "id": "c4c97072",
   "metadata": {},
   "outputs": [
    {
     "data": {
      "image/png": "[encoded data removed]",
      "text/plain": [
       "<Figure size 432x288 with 1 Axes>"
      ]
     },
     "metadata": {
      "needs_background": "light"
     },
     "output_type": "display_data"
    }
   ],
   "source": [
    "labels = ['UNIGRAMS', 'BIGRAMS', 'FOURGRAMS']\n",
    "\n",
    "precision = [bleu_n(tf_idf_unigrams_results, 1), \\\n",
    "             bleu_n(tf_idf_bigrams_results, 2), \\\n",
    "             bleu_n(tf_idf_fourgrams_results, 4)]\n",
    "\n",
    "recall = [rouge_n(tf_idf_unigrams_results, 1), \\\n",
    "          rouge_n(tf_idf_bigrams_results, 1),\\\n",
    "          rouge_n(tf_idf_fourgrams_results, 1)]\n",
    "\n",
    "# label locations\n",
    "x = np.arange(len(labels))  \n",
    "# bars width\n",
    "width = 0.35\n",
    "\n",
    "fig, ax = plt.subplots()\n",
    "rects1 = ax.bar(x - width/2, precision, width, label='Precision')\n",
    "rects2 = ax.bar(x + width/2, recall, width, label='Recall')\n",
    "\n",
    "ax.set_ylabel('Percentage')\n",
    "ax.set_title('TF-IDF results based on n-grams')\n",
    "ax.set_xticks(x, labels)\n",
    "ax.legend()\n",
    "\n",
    "ax.bar_label(rects1, padding=1)\n",
    "ax.bar_label(rects2, padding=1)\n",
    "\n",
    "fig.tight_layout()\n",
    "plt.show()"
   ]
  },
  {
   "cell_type": "markdown",
   "id": "78c3164a",
   "metadata": {},
   "source": [
    "### 4.3 Bayes"
   ]
  },
  {
   "cell_type": "markdown",
   "id": "2592cfa7",
   "metadata": {},
   "source": [
    "### 4.3.1) Stop words included"
   ]
  },
  {
   "cell_type": "code",
   "execution_count": 120,
   "id": "fc99387b",
   "metadata": {},
   "outputs": [
    {
     "data": {
      "image/png": "[encoded data removed]",
      "text/plain": [
       "<Figure size 432x288 with 1 Axes>"
      ]
     },
     "metadata": {
      "needs_background": "light"
     },
     "output_type": "display_data"
    }
   ],
   "source": [
    "labels = ['UNIGRAMS', 'BIGRAMS', 'FOURGRAMS']\n",
    "precision = [bleu_n(bayes_unigrams_results, 1), \\\n",
    "             bleu_n(bayes_bigrams_results, 2), \\\n",
    "             bleu_n(bayes_fourgrams_results, 4)]\n",
    "\n",
    "recall = [rouge_n(bayes_unigrams_results, 1), \\\n",
    "          rouge_n(bayes_bigrams_results, 1),\\\n",
    "          rouge_n(bayes_fourgrams_results, 1)]\n",
    "\n",
    "# label locations\n",
    "x = np.arange(len(labels))  \n",
    "# bars width\n",
    "width = 0.35\n",
    "\n",
    "fig, ax = plt.subplots()\n",
    "rects1 = ax.bar(x - width/2, precision, width, label='Precision')\n",
    "rects2 = ax.bar(x + width/2, recall, width, label='Recall')\n",
    "\n",
    "ax.set_ylabel('Percentage')\n",
    "ax.set_title('Bayes results with stop words included based on n-grams')\n",
    "ax.set_xticks(x, labels)\n",
    "ax.legend()\n",
    "\n",
    "ax.bar_label(rects1, padding=1)\n",
    "ax.bar_label(rects2, padding=1)\n",
    "\n",
    "fig.tight_layout()\n",
    "plt.show()"
   ]
  },
  {
   "cell_type": "markdown",
   "id": "64c6580f",
   "metadata": {},
   "source": [
    "### 4.3.1) Stop words excluded"
   ]
  },
  {
   "cell_type": "code",
   "execution_count": 121,
   "id": "bad9aae7",
   "metadata": {},
   "outputs": [
    {
     "data": {
      "image/png": "[encoded data removed]",
      "text/plain": [
       "<Figure size 432x288 with 1 Axes>"
      ]
     },
     "metadata": {
      "needs_background": "light"
     },
     "output_type": "display_data"
    }
   ],
   "source": [
    "labels = ['UNIGRAMS', 'BIGRAMS', 'FOURGRAMS']\n",
    "precision = [bleu_n(bayes_unigrams_results_stop_words_excluded, 1), \\\n",
    "             bleu_n(bayes_bigrams_results_stop_words_excluded, 2), \\\n",
    "             bleu_n(bayes_fourgrams_results_stop_words_excluded, 4)]\n",
    "\n",
    "recall = [rouge_n(bayes_unigrams_results_stop_words_excluded, 1), \\\n",
    "          rouge_n(bayes_bigrams_results_stop_words_excluded, 1),\\\n",
    "          rouge_n(bayes_fourgrams_results_stop_words_excluded, 1)]\n",
    "\n",
    "# label locations\n",
    "x = np.arange(len(labels))  \n",
    "# bars width\n",
    "width = 0.35\n",
    "\n",
    "fig, ax = plt.subplots()\n",
    "rects1 = ax.bar(x - width/2, precision, width, label='Precision')\n",
    "rects2 = ax.bar(x + width/2, recall, width, label='Recall')\n",
    "\n",
    "ax.set_ylabel('Percentage')\n",
    "ax.set_title('Bayes results with stop words excluded based on n-grams')\n",
    "ax.set_xticks(x, labels)\n",
    "ax.legend()\n",
    "\n",
    "ax.bar_label(rects1, padding=1)\n",
    "ax.bar_label(rects2, padding=1)\n",
    "\n",
    "fig.tight_layout()\n",
    "plt.show()"
   ]
  }
 ],
 "metadata": {
  "kernelspec": {
   "display_name": "Python 3 (ipykernel)",
   "language": "python",
   "name": "python3"
  },
  "language_info": {
   "codemirror_mode": {
    "name": "ipython",
    "version": 3
   },
   "file_extension": ".py",
   "mimetype": "text/x-python",
   "name": "python",
   "nbconvert_exporter": "python",
   "pygments_lexer": "ipython3",
   "version": "3.8.10"
  }
 },
 "nbformat": 4,
 "nbformat_minor": 5
}
